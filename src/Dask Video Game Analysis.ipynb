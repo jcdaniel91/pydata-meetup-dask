{
 "cells": [
  {
   "cell_type": "code",
   "execution_count": null,
   "metadata": {
    "collapsed": true
   },
   "outputs": [],
   "source": [
    "import dask.dataframe as dd\n",
    "import dask.array as da\n",
    "import pandas as pd\n",
    "import matplotlib.pyplot as plt\n",
    "import seaborn as sns"
   ]
  },
  {
   "cell_type": "markdown",
   "metadata": {},
   "source": [
    "# Loading data from a CSV file"
   ]
  },
  {
   "cell_type": "code",
   "execution_count": null,
   "metadata": {
    "collapsed": true
   },
   "outputs": [],
   "source": [
    "# Pandas\n",
    "pdf = pd.read_csv('../data/ign.csv').drop('Unnamed: 0', axis=1)\n",
    "\n",
    "# Dask\n",
    "ddf = dd.read_csv('../data/ign.csv').drop('Unnamed: 0', axis=1).repartition(npartitions=5)"
   ]
  },
  {
   "cell_type": "markdown",
   "metadata": {},
   "source": [
    "### This is an 18k row CSV file containing 20 years of data on video game releases and ratings."
   ]
  },
  {
   "cell_type": "code",
   "execution_count": null,
   "metadata": {
    "collapsed": true,
    "scrolled": true
   },
   "outputs": [],
   "source": [
    "pdf"
   ]
  },
  {
   "cell_type": "markdown",
   "metadata": {},
   "source": [
    "### Notice that we only get the object schema back, but no data, when we inspect ddf"
   ]
  },
  {
   "cell_type": "code",
   "execution_count": null,
   "metadata": {
    "collapsed": true
   },
   "outputs": [],
   "source": [
    "ddf"
   ]
  },
  {
   "cell_type": "code",
   "execution_count": null,
   "metadata": {
    "collapsed": true
   },
   "outputs": [],
   "source": [
    "ddf.head()"
   ]
  },
  {
   "cell_type": "markdown",
   "metadata": {},
   "source": [
    "# Basic data analysis with Dask"
   ]
  },
  {
   "cell_type": "markdown",
   "metadata": {},
   "source": [
    "## Let's start by looking for missing values"
   ]
  },
  {
   "cell_type": "code",
   "execution_count": null,
   "metadata": {
    "collapsed": true
   },
   "outputs": [],
   "source": [
    "# Pandas\n",
    "pdf.isnull().sum()"
   ]
  },
  {
   "cell_type": "code",
   "execution_count": null,
   "metadata": {
    "collapsed": true
   },
   "outputs": [],
   "source": [
    "# Dask\n",
    "missing_vals = ddf.isnull().sum()\n",
    "missing_vals"
   ]
  },
  {
   "cell_type": "markdown",
   "metadata": {},
   "source": [
    "### Notice that we now get a lazy Series object returned from the method. In order to process and collect the result, we have to use the .compute() method"
   ]
  },
  {
   "cell_type": "code",
   "execution_count": null,
   "metadata": {
    "collapsed": true
   },
   "outputs": [],
   "source": [
    "missing_vals.compute()"
   ]
  },
  {
   "cell_type": "markdown",
   "metadata": {},
   "source": [
    "### We can also inspect the task graph by using the .visualize() method"
   ]
  },
  {
   "cell_type": "code",
   "execution_count": null,
   "metadata": {
    "collapsed": true,
    "scrolled": false
   },
   "outputs": [],
   "source": [
    "missing_vals.visualize()"
   ]
  },
  {
   "cell_type": "markdown",
   "metadata": {},
   "source": [
    "## Let's take a look at the distribution of genres"
   ]
  },
  {
   "cell_type": "code",
   "execution_count": null,
   "metadata": {
    "collapsed": true
   },
   "outputs": [],
   "source": [
    "# Pandas\n",
    "p_genre_counts = pdf.genre.value_counts()\n",
    "p_popular_genre_counts = p_genre_counts[p_genre_counts > 250]\n",
    "p_popular_genre_counts.plot(kind='pie', autopct='%1.1f%%')\n",
    "plt.show()"
   ]
  },
  {
   "cell_type": "code",
   "execution_count": null,
   "metadata": {
    "collapsed": true
   },
   "outputs": [],
   "source": [
    "# Dask\n",
    "d_genre_counts = ddf.genre.value_counts()\n",
    "\n",
    "# Familiar filtering construct\n",
    "d_popular_genre_counts = d_genre_counts[d_genre_counts > 250]\n",
    "\n",
    "# Since DataFrame.compute() always returns a Pandas Series or DataFrame,\n",
    "# we can use its built in PyPlot methods\n",
    "d_popular_genre_counts.compute().plot(kind='pie', autopct='%1.1f%%')\n",
    "plt.show()"
   ]
  },
  {
   "cell_type": "markdown",
   "metadata": {},
   "source": [
    "### Looking at the task graph yields some interesting results..."
   ]
  },
  {
   "cell_type": "code",
   "execution_count": null,
   "metadata": {
    "collapsed": true,
    "scrolled": false
   },
   "outputs": [],
   "source": [
    "d_popular_genre_counts.visualize()"
   ]
  },
  {
   "cell_type": "markdown",
   "metadata": {},
   "source": [
    "### Let's take a look at the distribution of scores using a histogram"
   ]
  },
  {
   "cell_type": "code",
   "execution_count": null,
   "metadata": {
    "collapsed": true
   },
   "outputs": [],
   "source": [
    "# Pandas\n",
    "bins = [0,1,2,3,4,5,6,7,8,9,10,11]\n",
    "pdf.score.hist(bins=bins)\n",
    "plt.show()"
   ]
  },
  {
   "cell_type": "code",
   "execution_count": null,
   "metadata": {
    "collapsed": true
   },
   "outputs": [],
   "source": [
    "# Dask\n",
    "# dask.dataframe does not have a native histogram method\n",
    "# Manually binning in a dataframe can also be unwieldy (no cut method)\n",
    "# Solution: Convert the Series to a dask.array\n",
    "d_scores = ddf.score.values\n",
    "h, bins = da.histogram(d_scores, bins=bins)\n",
    "plt.bar(bins[:-1], h.compute())\n",
    "plt.xlim(0,11)\n",
    "plt.show()"
   ]
  },
  {
   "cell_type": "markdown",
   "metadata": {},
   "source": [
    "### Let's look at a Seaborn heatmap"
   ]
  },
  {
   "cell_type": "code",
   "execution_count": null,
   "metadata": {
    "collapsed": true,
    "scrolled": false
   },
   "outputs": [],
   "source": [
    "# Pandas\n",
    "plt.subplots(figsize=(15,15))\n",
    "\n",
    "# Filter games to only the popular genres\n",
    "p_games_in_popular_genres = pdf[pdf.genre.isin(p_popular_genre_counts.index)]\n",
    "\n",
    "# Calculate the mean score by genre, by year\n",
    "p_mean_score_by_year = p_games_in_popular_genres.groupby(['release_year','genre']).score.mean()\n",
    "\n",
    "# Unstack and plot as a heatmap\n",
    "sns.heatmap(p_mean_score_by_year.unstack(), annot=True, cmap='RdYlGn', linewidths=0.4, vmin=0, vmax=10)\n",
    "plt.show()"
   ]
  },
  {
   "cell_type": "code",
   "execution_count": null,
   "metadata": {
    "collapsed": true
   },
   "outputs": [],
   "source": [
    "# Dask\n",
    "plt.subplots(figsize=(15,15))\n",
    "\n",
    "# Filter games to only the popular genres\n",
    "d_games_in_popular_genres = ddf[ddf.genre.isin(d_popular_genre_counts.index.compute())]\n",
    "\n",
    "# Calculate the mean score by genre, by year\n",
    "d_mean_score_by_year = d_games_in_popular_genres.groupby(['release_year','genre']).score.mean()\n",
    "\n",
    "# Unstack and plot as a heatmap (unstack is not implemented in Dask; we collect the result then let Pandas reshape)\n",
    "sns.heatmap(d_mean_score_by_year.compute().unstack(), annot=True, cmap='RdYlGn', linewidths=0.4, vmin=0, vmax=10)\n",
    "plt.show()"
   ]
  },
  {
   "cell_type": "code",
   "execution_count": null,
   "metadata": {
    "collapsed": true
   },
   "outputs": [],
   "source": []
  }
 ],
 "metadata": {
  "kernelspec": {
   "display_name": "Python [conda root]",
   "language": "python",
   "name": "conda-root-py"
  },
  "language_info": {
   "codemirror_mode": {
    "name": "ipython",
    "version": 2
   },
   "file_extension": ".py",
   "mimetype": "text/x-python",
   "name": "python",
   "nbconvert_exporter": "python",
   "pygments_lexer": "ipython2",
   "version": "2.7.13"
  }
 },
 "nbformat": 4,
 "nbformat_minor": 2
}
